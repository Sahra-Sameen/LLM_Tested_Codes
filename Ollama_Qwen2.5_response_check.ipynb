{
 "cells": [
  {
   "cell_type": "markdown",
   "id": "cca95f0e-6877-481a-b55e-64e500ffba37",
   "metadata": {},
   "source": [
    "## Using Ollama in Python"
   ]
  },
  {
   "cell_type": "code",
   "execution_count": null,
   "id": "d0978439-e55f-4ff7-bb9f-6080f31c2aa4",
   "metadata": {},
   "outputs": [],
   "source": [
    "pip install ollama"
   ]
  },
  {
   "cell_type": "code",
   "execution_count": 2,
   "id": "99709603-d9d9-4f3a-bf46-ebd0b22abb04",
   "metadata": {},
   "outputs": [],
   "source": [
    "import ollama"
   ]
  },
  {
   "cell_type": "markdown",
   "id": "e947abba-02a3-4244-b817-d92e05fbf55a",
   "metadata": {},
   "source": [
    "#### Downloading the models"
   ]
  },
  {
   "cell_type": "code",
   "execution_count": 3,
   "id": "216b0efd-315e-4386-9446-a4401cd9dffd",
   "metadata": {},
   "outputs": [
    {
     "data": {
      "text/plain": [
       "{'status': 'success'}"
      ]
     },
     "execution_count": 3,
     "metadata": {},
     "output_type": "execute_result"
    }
   ],
   "source": [
    "ollama.pull('qwen2.5:0.5b')"
   ]
  },
  {
   "cell_type": "markdown",
   "id": "8642bbcd-d5c7-4d16-964b-1e1006fc8f5d",
   "metadata": {},
   "source": [
    "#### Getting response from models"
   ]
  },
  {
   "cell_type": "code",
   "execution_count": 4,
   "id": "bf539029-d7c6-4588-9a24-0e7279002c5e",
   "metadata": {},
   "outputs": [
    {
     "name": "stdout",
     "output_type": "stream",
     "text": [
      "\"Keep moving forward, even when the road is tough ahead.\" This quote reminds us that it's not how we start out that matters; what matters most is how we choose to move through obstacles and setbacks. You are capable of achieving your goals, and you can overcome any challenge that comes your way if you stay determined and persistent in your efforts. Keep believing in yourself and your abilities, and let the hard work bring you rewards along the journey. Don't give up; keep pushing forward, and you will succeed!\n"
     ]
    }
   ],
   "source": [
    "result = ollama.generate(\n",
    "    model='qwen2.5:0.5b',\n",
    "    prompt='Give me a motivational message to inspire someone to keep going despite challenges',\n",
    ")\n",
    "print(result['response'])\n"
   ]
  },
  {
   "cell_type": "code",
   "execution_count": 5,
   "id": "4d1a1454-4471-43e7-8f57-a5e56933b4c9",
   "metadata": {
    "scrolled": true
   },
   "outputs": [
    {
     "data": {
      "text/plain": [
       "{'model': 'qwen2.5:0.5b',\n",
       " 'created_at': '2024-10-12T17:57:59.3006252Z',\n",
       " 'response': '\"Keep moving forward, even when the road is tough ahead.\" This quote reminds us that it\\'s not how we start out that matters; what matters most is how we choose to move through obstacles and setbacks. You are capable of achieving your goals, and you can overcome any challenge that comes your way if you stay determined and persistent in your efforts. Keep believing in yourself and your abilities, and let the hard work bring you rewards along the journey. Don\\'t give up; keep pushing forward, and you will succeed!',\n",
       " 'done': True,\n",
       " 'done_reason': 'stop',\n",
       " 'context': [151644,\n",
       "  8948,\n",
       "  198,\n",
       "  2610,\n",
       "  525,\n",
       "  1207,\n",
       "  16948,\n",
       "  11,\n",
       "  3465,\n",
       "  553,\n",
       "  54364,\n",
       "  14817,\n",
       "  13,\n",
       "  1446,\n",
       "  525,\n",
       "  264,\n",
       "  10950,\n",
       "  17847,\n",
       "  13,\n",
       "  151645,\n",
       "  198,\n",
       "  151644,\n",
       "  872,\n",
       "  198,\n",
       "  35127,\n",
       "  752,\n",
       "  264,\n",
       "  87359,\n",
       "  1943,\n",
       "  311,\n",
       "  30640,\n",
       "  4325,\n",
       "  311,\n",
       "  2506,\n",
       "  2087,\n",
       "  8818,\n",
       "  11513,\n",
       "  151645,\n",
       "  198,\n",
       "  151644,\n",
       "  77091,\n",
       "  198,\n",
       "  1,\n",
       "  19434,\n",
       "  7218,\n",
       "  4637,\n",
       "  11,\n",
       "  1496,\n",
       "  979,\n",
       "  279,\n",
       "  5636,\n",
       "  374,\n",
       "  11045,\n",
       "  8305,\n",
       "  1189,\n",
       "  1096,\n",
       "  12641,\n",
       "  34610,\n",
       "  601,\n",
       "  429,\n",
       "  432,\n",
       "  594,\n",
       "  537,\n",
       "  1246,\n",
       "  582,\n",
       "  1191,\n",
       "  700,\n",
       "  429,\n",
       "  12850,\n",
       "  26,\n",
       "  1128,\n",
       "  12850,\n",
       "  1429,\n",
       "  374,\n",
       "  1246,\n",
       "  582,\n",
       "  5157,\n",
       "  311,\n",
       "  3271,\n",
       "  1526,\n",
       "  31016,\n",
       "  323,\n",
       "  96637,\n",
       "  13,\n",
       "  1446,\n",
       "  525,\n",
       "  12875,\n",
       "  315,\n",
       "  31045,\n",
       "  697,\n",
       "  8845,\n",
       "  11,\n",
       "  323,\n",
       "  498,\n",
       "  646,\n",
       "  22279,\n",
       "  894,\n",
       "  8645,\n",
       "  429,\n",
       "  4041,\n",
       "  697,\n",
       "  1616,\n",
       "  421,\n",
       "  498,\n",
       "  4717,\n",
       "  10838,\n",
       "  323,\n",
       "  24999,\n",
       "  304,\n",
       "  697,\n",
       "  8869,\n",
       "  13,\n",
       "  13655,\n",
       "  33990,\n",
       "  304,\n",
       "  6133,\n",
       "  323,\n",
       "  697,\n",
       "  17541,\n",
       "  11,\n",
       "  323,\n",
       "  1077,\n",
       "  279,\n",
       "  2588,\n",
       "  975,\n",
       "  4446,\n",
       "  498,\n",
       "  21160,\n",
       "  3156,\n",
       "  279,\n",
       "  11618,\n",
       "  13,\n",
       "  4320,\n",
       "  944,\n",
       "  2968,\n",
       "  705,\n",
       "  26,\n",
       "  2506,\n",
       "  17461,\n",
       "  4637,\n",
       "  11,\n",
       "  323,\n",
       "  498,\n",
       "  686,\n",
       "  11996,\n",
       "  0],\n",
       " 'total_duration': 6182106100,\n",
       " 'load_duration': 3045207900,\n",
       " 'prompt_eval_count': 42,\n",
       " 'prompt_eval_duration': 393883000,\n",
       " 'eval_count': 105,\n",
       " 'eval_duration': 2734505000}"
      ]
     },
     "execution_count": 5,
     "metadata": {},
     "output_type": "execute_result"
    }
   ],
   "source": [
    "result"
   ]
  },
  {
   "cell_type": "code",
   "execution_count": 6,
   "id": "7734be33-c0ec-452c-a688-0e57a951e53d",
   "metadata": {},
   "outputs": [
    {
     "name": "stdout",
     "output_type": "stream",
     "text": [
      "\"Challenges are a natural part of life, but with the right mindset and actions, they can be transformed into opportunities for growth and success.\" This quote encourages you to embrace the uncertainties of your journey, view setbacks as stepping stones to your goals, and cultivate resilience through perseverance and learning from each experience. Remember that every challenge is an opportunity for self-improvement and personal growth.\n",
      "\n",
      "Keep pushing forward! With determination and a positive attitude, you can overcome any obstacle and reach your desired outcomes. Keep shining bright, because the sky is the limit if you're willing to embrace it.\n"
     ]
    }
   ],
   "source": [
    "response = ollama.chat(\n",
    "    model='qwen2.5:0.5b',\n",
    "    messages=[\n",
    "        {\n",
    "            'role': 'user',\n",
    "            'content': 'Give me a motivational message to help me overcome challenges and stay positive.',\n",
    "        },\n",
    "    ]\n",
    ")\n",
    "print(response['message']['content'])\n"
   ]
  },
  {
   "cell_type": "code",
   "execution_count": 7,
   "id": "64d50b49-834e-4270-885d-f4e30dc4ca09",
   "metadata": {},
   "outputs": [
    {
     "data": {
      "text/plain": [
       "{'model': 'qwen2.5:0.5b',\n",
       " 'created_at': '2024-10-12T17:58:47.861594Z',\n",
       " 'message': {'role': 'assistant',\n",
       "  'content': '\"Challenges are a natural part of life, but with the right mindset and actions, they can be transformed into opportunities for growth and success.\" This quote encourages you to embrace the uncertainties of your journey, view setbacks as stepping stones to your goals, and cultivate resilience through perseverance and learning from each experience. Remember that every challenge is an opportunity for self-improvement and personal growth.\\n\\nKeep pushing forward! With determination and a positive attitude, you can overcome any obstacle and reach your desired outcomes. Keep shining bright, because the sky is the limit if you\\'re willing to embrace it.'},\n",
       " 'done_reason': 'stop',\n",
       " 'done': True,\n",
       " 'total_duration': 3070585000,\n",
       " 'load_duration': 26503500,\n",
       " 'prompt_eval_count': 43,\n",
       " 'prompt_eval_duration': 124162000,\n",
       " 'eval_count': 118,\n",
       " 'eval_duration': 2914455000}"
      ]
     },
     "execution_count": 7,
     "metadata": {},
     "output_type": "execute_result"
    }
   ],
   "source": [
    "response"
   ]
  },
  {
   "cell_type": "markdown",
   "id": "cef12f42-5925-4ec2-b85f-8b98272fcf0e",
   "metadata": {},
   "source": [
    "#### Creating custom models"
   ]
  },
  {
   "cell_type": "code",
   "execution_count": 13,
   "id": "318c405c-9822-46a4-8dfb-5c3fa666bd98",
   "metadata": {},
   "outputs": [
    {
     "data": {
      "text/plain": [
       "{'status': 'success'}"
      ]
     },
     "execution_count": 13,
     "metadata": {},
     "output_type": "execute_result"
    }
   ],
   "source": [
    "modelfile = '''\n",
    "FROM qwen2.5:0.5b\n",
    "SYSTEM You are a positive motivator, encouraging the user to stay strong and overcome any emotional or mental challenges.\n",
    "'''\n",
    "\n",
    "ollama.create(model='motivator', modelfile=modelfile)\n"
   ]
  },
  {
   "cell_type": "code",
   "execution_count": 14,
   "id": "c633e363-d0d6-45ff-b64c-6a0c22597a5e",
   "metadata": {
    "scrolled": true
   },
   "outputs": [
    {
     "data": {
      "text/plain": [
       "{'models': [{'name': 'motivator:latest',\n",
       "   'model': 'motivator:latest',\n",
       "   'modified_at': '2024-10-12T23:33:08.688461+05:30',\n",
       "   'size': 397821365,\n",
       "   'digest': '22fbbeb0f2505bcbb98dc831a4923cddf3839f6ba32eb90a5a719c285f918eda',\n",
       "   'details': {'parent_model': '',\n",
       "    'format': 'gguf',\n",
       "    'family': 'qwen2',\n",
       "    'families': ['qwen2'],\n",
       "    'parameter_size': '494.03M',\n",
       "    'quantization_level': 'Q4_K_M'}},\n",
       "  {'name': 'qwen2.5:0.5b',\n",
       "   'model': 'qwen2.5:0.5b',\n",
       "   'modified_at': '2024-10-12T23:27:16.0454548+05:30',\n",
       "   'size': 397821319,\n",
       "   'digest': 'a8b0c51577010a279d933d14c2a8ab4b268079d44c5c8830c0a93900f1827c67',\n",
       "   'details': {'parent_model': '',\n",
       "    'format': 'gguf',\n",
       "    'family': 'qwen2',\n",
       "    'families': ['qwen2'],\n",
       "    'parameter_size': '494.03M',\n",
       "    'quantization_level': 'Q4_K_M'}},\n",
       "  {'name': 'paraphrase-multilingual:latest',\n",
       "   'model': 'paraphrase-multilingual:latest',\n",
       "   'modified_at': '2024-10-09T22:49:15.0861614+05:30',\n",
       "   'size': 562777863,\n",
       "   'digest': 'ba13c2e06707cde2895d11e3c6e7905685edcca25861b93ccf15f692256e4339',\n",
       "   'details': {'parent_model': '',\n",
       "    'format': 'gguf',\n",
       "    'family': 'bert',\n",
       "    'families': ['bert'],\n",
       "    'parameter_size': '277.45M',\n",
       "    'quantization_level': 'F16'}},\n",
       "  {'name': 'snowflake-arctic-embed:latest',\n",
       "   'model': 'snowflake-arctic-embed:latest',\n",
       "   'modified_at': '2024-10-09T22:42:51.7005334+05:30',\n",
       "   'size': 669493195,\n",
       "   'digest': '21ab8b9b0545e26a78164a910691440a3f1de1bfa41c3953d7451d52036c581a',\n",
       "   'details': {'parent_model': '',\n",
       "    'format': 'gguf',\n",
       "    'family': 'bert',\n",
       "    'families': ['bert'],\n",
       "    'parameter_size': '334M',\n",
       "    'quantization_level': 'F16'}},\n",
       "  {'name': 'bge-m3:567m',\n",
       "   'model': 'bge-m3:567m',\n",
       "   'modified_at': '2024-10-09T22:30:17.6257805+05:30',\n",
       "   'size': 1157672605,\n",
       "   'digest': '7907646426070047a77226ac3e684fbbe8410524f7b4a74d02837e43f2146bab',\n",
       "   'details': {'parent_model': '',\n",
       "    'format': 'gguf',\n",
       "    'family': 'bert',\n",
       "    'families': ['bert'],\n",
       "    'parameter_size': '566.70M',\n",
       "    'quantization_level': 'F16'}},\n",
       "  {'name': 'nomic-embed-text:latest',\n",
       "   'model': 'nomic-embed-text:latest',\n",
       "   'modified_at': '2024-10-09T16:00:42.3150736+05:30',\n",
       "   'size': 274302450,\n",
       "   'digest': '0a109f422b47e3a30ba2b10eca18548e944e8a23073ee3f3e947efcf3c45e59f',\n",
       "   'details': {'parent_model': '',\n",
       "    'format': 'gguf',\n",
       "    'family': 'nomic-bert',\n",
       "    'families': ['nomic-bert'],\n",
       "    'parameter_size': '137M',\n",
       "    'quantization_level': 'F16'}},\n",
       "  {'name': 'conceptsintamil/tamil-llama-7b-instruct-v0.2:latest',\n",
       "   'model': 'conceptsintamil/tamil-llama-7b-instruct-v0.2:latest',\n",
       "   'modified_at': '2024-10-09T01:11:33.5283191+05:30',\n",
       "   'size': 4183579538,\n",
       "   'digest': '2d37b2c02c6468474a8cda82759ed468118528d9d1f0fb9cb05a02b0993318dd',\n",
       "   'details': {'parent_model': '',\n",
       "    'format': 'gguf',\n",
       "    'family': 'llama',\n",
       "    'families': ['llama'],\n",
       "    'parameter_size': '7B',\n",
       "    'quantization_level': 'Q4_K_M'}},\n",
       "  {'name': 'hari:latest',\n",
       "   'model': 'hari:latest',\n",
       "   'modified_at': '2024-10-08T23:04:05.8050376+05:30',\n",
       "   'size': 986061997,\n",
       "   'digest': '77f52888118cdfcb55f5f2c23c087cb3a758ce55205e9c9e274e01343a8a8b49',\n",
       "   'details': {'parent_model': '',\n",
       "    'format': 'gguf',\n",
       "    'family': 'qwen2',\n",
       "    'families': ['qwen2'],\n",
       "    'parameter_size': '1.5B',\n",
       "    'quantization_level': 'Q4_K_M'}},\n",
       "  {'name': 'qwen2.5:1.5b',\n",
       "   'model': 'qwen2.5:1.5b',\n",
       "   'modified_at': '2024-10-08T21:51:05.7376665+05:30',\n",
       "   'size': 986061892,\n",
       "   'digest': '65ec06548149b04c096a120e4a6da9d4017ea809c91734ea5631e89f96ddc57b',\n",
       "   'details': {'parent_model': '',\n",
       "    'format': 'gguf',\n",
       "    'family': 'qwen2',\n",
       "    'families': ['qwen2'],\n",
       "    'parameter_size': '1.5B',\n",
       "    'quantization_level': 'Q4_K_M'}},\n",
       "  {'name': 'llama2-uncensored:latest',\n",
       "   'model': 'llama2-uncensored:latest',\n",
       "   'modified_at': '2024-08-25T21:34:23.891692+05:30',\n",
       "   'size': 3825819449,\n",
       "   'digest': '44040b9222331f7eacd27ec9254e42de585af28d2c5d1211cdaeb3ffa361fe3f',\n",
       "   'details': {'parent_model': '',\n",
       "    'format': 'gguf',\n",
       "    'family': 'llama',\n",
       "    'families': None,\n",
       "    'parameter_size': '7B',\n",
       "    'quantization_level': 'Q4_0'}}]}"
      ]
     },
     "execution_count": 14,
     "metadata": {},
     "output_type": "execute_result"
    }
   ],
   "source": [
    "ollama.list()"
   ]
  },
  {
   "cell_type": "code",
   "execution_count": 15,
   "id": "7fbdb4ae",
   "metadata": {},
   "outputs": [
    {
     "name": "stdout",
     "output_type": "stream",
     "text": [
      "\"Every step forward is a victory on your path towards success. Believe in yourself and trust that you can achieve anything you set your mind to.\"\n"
     ]
    }
   ],
   "source": [
    "response = ollama.chat(\n",
    "    model='motivator',\n",
    "    messages=[\n",
    "        {\n",
    "            'role': 'user',\n",
    "            'content': 'Give me a motivational message to help me overcome challenges and stay positive.',\n",
    "        },\n",
    "    ]\n",
    ")\n",
    "print(response['message']['content'])\n"
   ]
  },
  {
   "cell_type": "markdown",
   "id": "84326d45-d3ae-4b37-bbea-2c2bbe5fe8f3",
   "metadata": {},
   "source": [
    "#### Delete"
   ]
  },
  {
   "cell_type": "code",
   "execution_count": 11,
   "id": "30779aa6-28f8-4f58-bb86-6443dd8762b4",
   "metadata": {},
   "outputs": [
    {
     "data": {
      "text/plain": [
       "{'status': 'success'}"
      ]
     },
     "execution_count": 11,
     "metadata": {},
     "output_type": "execute_result"
    }
   ],
   "source": [
    "ollama.delete('motivator')"
   ]
  },
  {
   "cell_type": "code",
   "execution_count": 12,
   "id": "0f98d63b-ff77-4b71-b4cd-4118adfbf435",
   "metadata": {
    "scrolled": true
   },
   "outputs": [
    {
     "data": {
      "text/plain": [
       "{'models': [{'name': 'qwen2.5:0.5b',\n",
       "   'model': 'qwen2.5:0.5b',\n",
       "   'modified_at': '2024-10-12T23:27:16.0454548+05:30',\n",
       "   'size': 397821319,\n",
       "   'digest': 'a8b0c51577010a279d933d14c2a8ab4b268079d44c5c8830c0a93900f1827c67',\n",
       "   'details': {'parent_model': '',\n",
       "    'format': 'gguf',\n",
       "    'family': 'qwen2',\n",
       "    'families': ['qwen2'],\n",
       "    'parameter_size': '494.03M',\n",
       "    'quantization_level': 'Q4_K_M'}},\n",
       "  {'name': 'paraphrase-multilingual:latest',\n",
       "   'model': 'paraphrase-multilingual:latest',\n",
       "   'modified_at': '2024-10-09T22:49:15.0861614+05:30',\n",
       "   'size': 562777863,\n",
       "   'digest': 'ba13c2e06707cde2895d11e3c6e7905685edcca25861b93ccf15f692256e4339',\n",
       "   'details': {'parent_model': '',\n",
       "    'format': 'gguf',\n",
       "    'family': 'bert',\n",
       "    'families': ['bert'],\n",
       "    'parameter_size': '277.45M',\n",
       "    'quantization_level': 'F16'}},\n",
       "  {'name': 'snowflake-arctic-embed:latest',\n",
       "   'model': 'snowflake-arctic-embed:latest',\n",
       "   'modified_at': '2024-10-09T22:42:51.7005334+05:30',\n",
       "   'size': 669493195,\n",
       "   'digest': '21ab8b9b0545e26a78164a910691440a3f1de1bfa41c3953d7451d52036c581a',\n",
       "   'details': {'parent_model': '',\n",
       "    'format': 'gguf',\n",
       "    'family': 'bert',\n",
       "    'families': ['bert'],\n",
       "    'parameter_size': '334M',\n",
       "    'quantization_level': 'F16'}},\n",
       "  {'name': 'bge-m3:567m',\n",
       "   'model': 'bge-m3:567m',\n",
       "   'modified_at': '2024-10-09T22:30:17.6257805+05:30',\n",
       "   'size': 1157672605,\n",
       "   'digest': '7907646426070047a77226ac3e684fbbe8410524f7b4a74d02837e43f2146bab',\n",
       "   'details': {'parent_model': '',\n",
       "    'format': 'gguf',\n",
       "    'family': 'bert',\n",
       "    'families': ['bert'],\n",
       "    'parameter_size': '566.70M',\n",
       "    'quantization_level': 'F16'}},\n",
       "  {'name': 'nomic-embed-text:latest',\n",
       "   'model': 'nomic-embed-text:latest',\n",
       "   'modified_at': '2024-10-09T16:00:42.3150736+05:30',\n",
       "   'size': 274302450,\n",
       "   'digest': '0a109f422b47e3a30ba2b10eca18548e944e8a23073ee3f3e947efcf3c45e59f',\n",
       "   'details': {'parent_model': '',\n",
       "    'format': 'gguf',\n",
       "    'family': 'nomic-bert',\n",
       "    'families': ['nomic-bert'],\n",
       "    'parameter_size': '137M',\n",
       "    'quantization_level': 'F16'}},\n",
       "  {'name': 'conceptsintamil/tamil-llama-7b-instruct-v0.2:latest',\n",
       "   'model': 'conceptsintamil/tamil-llama-7b-instruct-v0.2:latest',\n",
       "   'modified_at': '2024-10-09T01:11:33.5283191+05:30',\n",
       "   'size': 4183579538,\n",
       "   'digest': '2d37b2c02c6468474a8cda82759ed468118528d9d1f0fb9cb05a02b0993318dd',\n",
       "   'details': {'parent_model': '',\n",
       "    'format': 'gguf',\n",
       "    'family': 'llama',\n",
       "    'families': ['llama'],\n",
       "    'parameter_size': '7B',\n",
       "    'quantization_level': 'Q4_K_M'}},\n",
       "  {'name': 'hari:latest',\n",
       "   'model': 'hari:latest',\n",
       "   'modified_at': '2024-10-08T23:04:05.8050376+05:30',\n",
       "   'size': 986061997,\n",
       "   'digest': '77f52888118cdfcb55f5f2c23c087cb3a758ce55205e9c9e274e01343a8a8b49',\n",
       "   'details': {'parent_model': '',\n",
       "    'format': 'gguf',\n",
       "    'family': 'qwen2',\n",
       "    'families': ['qwen2'],\n",
       "    'parameter_size': '1.5B',\n",
       "    'quantization_level': 'Q4_K_M'}},\n",
       "  {'name': 'qwen2.5:1.5b',\n",
       "   'model': 'qwen2.5:1.5b',\n",
       "   'modified_at': '2024-10-08T21:51:05.7376665+05:30',\n",
       "   'size': 986061892,\n",
       "   'digest': '65ec06548149b04c096a120e4a6da9d4017ea809c91734ea5631e89f96ddc57b',\n",
       "   'details': {'parent_model': '',\n",
       "    'format': 'gguf',\n",
       "    'family': 'qwen2',\n",
       "    'families': ['qwen2'],\n",
       "    'parameter_size': '1.5B',\n",
       "    'quantization_level': 'Q4_K_M'}},\n",
       "  {'name': 'llama2-uncensored:latest',\n",
       "   'model': 'llama2-uncensored:latest',\n",
       "   'modified_at': '2024-08-25T21:34:23.891692+05:30',\n",
       "   'size': 3825819449,\n",
       "   'digest': '44040b9222331f7eacd27ec9254e42de585af28d2c5d1211cdaeb3ffa361fe3f',\n",
       "   'details': {'parent_model': '',\n",
       "    'format': 'gguf',\n",
       "    'family': 'llama',\n",
       "    'families': None,\n",
       "    'parameter_size': '7B',\n",
       "    'quantization_level': 'Q4_0'}}]}"
      ]
     },
     "execution_count": 12,
     "metadata": {},
     "output_type": "execute_result"
    }
   ],
   "source": [
    "ollama.list()"
   ]
  },
  {
   "cell_type": "markdown",
   "id": "410755d5-7b45-45cb-963b-f89a53fb7ed0",
   "metadata": {},
   "source": [
    "## Ollama REST API"
   ]
  },
  {
   "cell_type": "code",
   "execution_count": 18,
   "id": "4fbff933-8434-4325-973a-9d7fa8b94684",
   "metadata": {},
   "outputs": [
    {
     "name": "stdout",
     "output_type": "stream",
     "text": [
      "Absolutely! Staying motivated during tough times is crucial for maintaining your strength and resilience. Here are 5 strategies that can help you:\n",
      "\n",
      "1. **Set Clear Goals**: Break down the big goals into smaller, manageable tasks. This makes them more tangible and easier to achieve.\n",
      "\n",
      "2. **Take Action**: Instead of waiting for things to happen, take immediate action by taking steps towards achieving your goals right away. You’ll feel more motivated when you’re in the process.\n",
      "\n",
      "3. **Stay Organized**: Keep track of your progress and deadlines. Keeping a calendar can help you stay on schedule and give you a sense of control over your tasks.\n",
      "\n",
      "4. **Connect with Others**: Surround yourself with positive people who lift you up and provide encouragement. Sometimes, talking to others about your struggles can make you feel less alone.\n",
      "\n",
      "5. **Relaxation Techniques**: Use relaxation techniques such as meditation, deep breathing exercises, or yoga. These practices can help you calm down and focus on the present moment, making it easier to stay motivated during tough times.\n",
      "\n",
      "Remember, each person is unique in their journey through life. Find what works best for you and keep pushing forward!\n"
     ]
    }
   ],
   "source": [
    "from ollama import Client\n",
    "\n",
    "client = Client(host='http://localhost:11434')\n",
    "\n",
    "response = client.chat(\n",
    "    model='motivator',\n",
    "    messages=[\n",
    "        {\n",
    "            'role': 'user',\n",
    "            'content': 'I need some motivation to help me stay strong during tough times.',\n",
    "        },\n",
    "    ]\n",
    ")\n",
    "\n",
    "print(response['message']['content'])\n"
   ]
  },
  {
   "cell_type": "code",
   "execution_count": 19,
   "id": "795e210a-0e67-4803-be42-383eb8dfc8db",
   "metadata": {},
   "outputs": [
    {
     "name": "stdout",
     "output_type": "stream",
     "text": [
      "Hello! It's great to meet you, but I'm not sure what you need or how much assistance you might need right now. Do you have any specific questions or topics you'd like to discuss? If so, feel free to share them and I'll do my best to help. Or perhaps we could start with a topic that interests you. Let me know!\n"
     ]
    }
   ],
   "source": [
    "from ollama import Client\n",
    "\n",
    "client = Client(host='http://localhost:11434')\n",
    "\n",
    "response = client.chat(\n",
    "    model='motivator',\n",
    "    messages=[\n",
    "        {\"role\": \"system\", \"content\": \"You are a positive motivator, always offering support and encouragement to help the user stay strong.\"},\n",
    "        {'role': 'user', 'content': 'Hi'},\n",
    "    ]\n",
    ")\n",
    "\n",
    "print(response['message']['content'])\n"
   ]
  },
  {
   "cell_type": "code",
   "execution_count": 20,
   "id": "0410cd39-01da-4b83-8a9d-881aad2a918b",
   "metadata": {},
   "outputs": [
    {
     "data": {
      "text/plain": [
       "\"Hello! It's great to meet you, but I'm not sure what you need or how much assistance you might need right now. Do you have any specific questions or topics you'd like to discuss? If so, feel free to share them and I'll do my best to help. Or perhaps we could start with a topic that interests you. Let me know!\""
      ]
     },
     "execution_count": 20,
     "metadata": {},
     "output_type": "execute_result"
    }
   ],
   "source": [
    "response['message']['content']"
   ]
  },
  {
   "cell_type": "markdown",
   "id": "d4e99666-6a45-40d9-ab86-2cc4ce0bde9c",
   "metadata": {},
   "source": [
    "### Open AI compatibility \n",
    "\n",
    "https://platform.openai.com/docs/quickstart"
   ]
  },
  {
   "cell_type": "code",
   "execution_count": 21,
   "id": "4bd7accd-e73e-4dfc-b592-853ade686faa",
   "metadata": {},
   "outputs": [
    {
     "name": "stdout",
     "output_type": "stream",
     "text": [
      "I believe in yourself too, you are capable of overcoming any challenge. Remember, it's okay to ask for help and that others will be there for you if needed. Take care!\n"
     ]
    }
   ],
   "source": [
    "from openai import OpenAI\n",
    "\n",
    "llm = OpenAI(\n",
    "    base_url='http://localhost:11434/v1',\n",
    "    api_key='blank', \n",
    ")\n",
    "\n",
    "response = llm.chat.completions.create(\n",
    "    model=\"motivator\",\n",
    "    messages=[\n",
    "        {\"role\": \"system\", \"content\": \"You are a positive motivator, always encouraging the user to overcome challenges and stay resilient.\"},\n",
    "        {\"role\": \"user\", \"content\": \"Hi\"},\n",
    "        {\"role\": \"assistant\", \"content\": \"Hello! Stay strong, whatever you're facing today. You have the power to rise above it.\"},\n",
    "        {\"role\": \"user\", \"content\": \"Yes\"}\n",
    "    ]\n",
    ")\n",
    "\n",
    "print(response.choices[0].message.content)\n"
   ]
  },
  {
   "cell_type": "markdown",
   "id": "91ef305b-3c2b-49f4-911a-e09ccf5bed81",
   "metadata": {},
   "source": [
    "## Ollama with LangChain"
   ]
  },
  {
   "cell_type": "code",
   "execution_count": 22,
   "id": "c728dbc0-3bb7-4370-9110-f7fcc6b8af5c",
   "metadata": {},
   "outputs": [
    {
     "ename": "SyntaxError",
     "evalue": "invalid syntax (3590869332.py, line 1)",
     "output_type": "error",
     "traceback": [
      "\u001b[1;36m  Cell \u001b[1;32mIn[22], line 1\u001b[1;36m\u001b[0m\n\u001b[1;33m    pip install langchain\u001b[0m\n\u001b[1;37m        ^\u001b[0m\n\u001b[1;31mSyntaxError\u001b[0m\u001b[1;31m:\u001b[0m invalid syntax\n"
     ]
    }
   ],
   "source": [
    "!pip install langchain\n",
    "!pip install langchain-core\n",
    "!pip install langchain-Ollama\n",
    "!pip install langchain_community"
   ]
  },
  {
   "cell_type": "code",
   "execution_count": 23,
   "id": "3d47cc00-0a8e-41b6-9e09-e684f9aa7055",
   "metadata": {},
   "outputs": [
    {
     "data": {
      "text/plain": [
       "[SystemMessage(content='You are a positive motivator who gives an encouraging message to help the user stay resilient.', additional_kwargs={}, response_metadata={}),\n",
       " HumanMessage(content=\"I'm feeling overwhelmed\", additional_kwargs={}, response_metadata={})]"
      ]
     },
     "execution_count": 23,
     "metadata": {},
     "output_type": "execute_result"
    }
   ],
   "source": [
    "from langchain_core.prompts import ChatPromptTemplate\n",
    "\n",
    "chat_template = ChatPromptTemplate.from_messages(\n",
    "    [\n",
    "        (\"system\", \"You are a positive motivator who gives an encouraging message to help the user stay resilient.\"),\n",
    "        (\"human\", \"{user_input}\"),\n",
    "    ]\n",
    ")\n",
    "\n",
    "messages = chat_template.format_messages(user_input=\"I'm feeling overwhelmed\")\n",
    "messages\n"
   ]
  },
  {
   "cell_type": "code",
   "execution_count": 24,
   "id": "bb1ca89d-728d-47d5-9f98-fb5108947a30",
   "metadata": {},
   "outputs": [],
   "source": [
    "from langchain_ollama import ChatOllama\n",
    "\n",
    "llm = ChatOllama(\n",
    "    model=\"motivator\",  # Use a motivator model for positive encouragement\n",
    "    temperature=0  # Keep the temperature low for more focused and concise responses\n",
    ")\n"
   ]
  },
  {
   "cell_type": "code",
   "execution_count": 25,
   "id": "994b8650-b760-41fd-aa7b-be394440b396",
   "metadata": {},
   "outputs": [
    {
     "data": {
      "text/plain": [
       "AIMessage(content=\"It's okay to feel overwhelmed sometimes, but remember that you're not alone in this. Here are some strategies that might help you manage your feelings:\\n\\n1. **Take Breaks**: Sometimes stepping away from a task or situation can clear your mind and reduce stress.\\n\\n2. **Exercise**: Physical activity can release endorphins, which are natural mood elevators.\\n\\n3. **Connect with Others**: Talking to friends, family, or a therapist can provide emotional support and help you feel less isolated.\\n\\n4. **Set Realistic Goals**: Break down larger tasks into smaller, manageable steps. This can make the process more manageable and reduce feelings of overwhelm.\\n\\n5. **Practice Mindfulness**: Focus on the present moment by practicing mindfulness meditation or deep breathing exercises.\\n\\n6. **Limit Distractions**: Find ways to stay focused without being distracted by social media or other distractions.\\n\\n7. **Seek Professional Help**: If your feelings are overwhelming, consider seeking help from a counselor or therapist who can provide personalized guidance and support.\\n\\nRemember, it's okay to feel overwhelmed sometimes. With the right strategies and support, you can manage these feelings effectively.\", additional_kwargs={}, response_metadata={'model': 'motivator', 'created_at': '2024-10-12T18:09:42.3046028Z', 'message': {'role': 'assistant', 'content': ''}, 'done_reason': 'stop', 'done': True, 'total_duration': 7346427400, 'load_duration': 45363600, 'prompt_eval_count': 35, 'prompt_eval_duration': 339394000, 'eval_count': 229, 'eval_duration': 6956989000}, id='run-4df70678-3059-448c-9a8d-dd60a8e45bc2-0', usage_metadata={'input_tokens': 35, 'output_tokens': 229, 'total_tokens': 264})"
      ]
     },
     "execution_count": 25,
     "metadata": {},
     "output_type": "execute_result"
    }
   ],
   "source": [
    "ai_msg = llm.invoke(messages)\n",
    "ai_msg"
   ]
  },
  {
   "cell_type": "code",
   "execution_count": 26,
   "id": "1be71b0e-e80d-4a6f-86e6-cb26b5cd513f",
   "metadata": {},
   "outputs": [],
   "source": [
    "from langchain_core.output_parsers import StrOutputParser\n",
    "chain = chat_template | llm | StrOutputParser()"
   ]
  },
  {
   "cell_type": "code",
   "execution_count": 28,
   "id": "46c3a7d5-2e67-4d56-9b4f-eb61b5092d25",
   "metadata": {},
   "outputs": [
    {
     "data": {
      "text/plain": [
       "\"It's completely normal to feel overwhelmed sometimes, but it's important to remember that you're not alone in this. Here are some strategies that might help:\\n\\n1. **Set a Schedule**: Try to schedule your day or week around tasks and activities. This can help you manage your time more effectively.\\n\\n2. **Take Breaks**: Sometimes taking short breaks can really help. You could try doing something physical, like stretching or yoga, or simply stepping away from work for a few minutes.\\n\\n3. **Exercise**: Physical activity can boost your mood and energy levels. Even a quick walk around the block can make a big difference.\\n\\n4. **Connect with Others**: Sometimes just talking to friends or colleagues about what's going on in your life can help you feel less isolated.\\n\\n5. **Limit Distractions**: Try to minimize distractions by turning off notifications on your phone and using apps that limit social media usage.\\n\\n6. **Seek Support**: If you're feeling overwhelmed, don't hesitate to reach out for support from a friend, family member, or professional counselor.\\n\\nRemember, it's okay to ask for help when you need it. You are not alone in this journey.\""
      ]
     },
     "execution_count": 28,
     "metadata": {},
     "output_type": "execute_result"
    }
   ],
   "source": [
    "chain.invoke({\"user_input\": \"I have alone feeling cant able to focus on work.\"})\n"
   ]
  },
  {
   "cell_type": "code",
   "execution_count": null,
   "id": "187ac1a1-6fd4-43df-958a-63536f71080f",
   "metadata": {},
   "outputs": [],
   "source": []
  },
  {
   "cell_type": "code",
   "execution_count": null,
   "id": "b6989e6f-49af-4156-beec-f602d3d64a0c",
   "metadata": {},
   "outputs": [],
   "source": []
  },
  {
   "cell_type": "code",
   "execution_count": null,
   "id": "fca39b54-dba9-4575-8945-d1f8e30a22c9",
   "metadata": {},
   "outputs": [],
   "source": []
  }
 ],
 "metadata": {
  "kernelspec": {
   "display_name": "project",
   "language": "python",
   "name": "python3"
  },
  "language_info": {
   "codemirror_mode": {
    "name": "ipython",
    "version": 3
   },
   "file_extension": ".py",
   "mimetype": "text/x-python",
   "name": "python",
   "nbconvert_exporter": "python",
   "pygments_lexer": "ipython3",
   "version": "3.9.20"
  }
 },
 "nbformat": 4,
 "nbformat_minor": 5
}
